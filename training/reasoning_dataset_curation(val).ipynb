{
 "cells": [
  {
   "cell_type": "code",
   "execution_count": 2,
   "metadata": {},
   "outputs": [
    {
     "name": "stdout",
     "output_type": "stream",
     "text": [
      "Note: you may need to restart the kernel to use updated packages.\n",
      "Note: you may need to restart the kernel to use updated packages.\n"
     ]
    }
   ],
   "source": [
    "%pip install datasets tqdm python-dotenv google-api-core --quiet\n",
    "%pip install -U -q \"google-genai>=1.10.0\" --quiet"
   ]
  },
  {
   "cell_type": "code",
   "execution_count": 6,
   "metadata": {},
   "outputs": [],
   "source": [
    "import os\n",
    "import json\n",
    "import time\n",
    "import concurrent.futures\n",
    "import threading # Import threading for Lock\n",
    "from tqdm.notebook import tqdm\n",
    "from google import genai\n",
    "from google.genai import types\n",
    "from dotenv import load_dotenv\n",
    "from datasets import load_dataset\n",
    "from google.api_core import exceptions as core_exceptions"
   ]
  },
  {
   "cell_type": "code",
   "execution_count": 23,
   "metadata": {},
   "outputs": [],
   "source": [
    "# --- Configuration ---\n",
    "load_dotenv()\n",
    "gemini_api_key = os.getenv(\"GEMINI_API_KEY\")\n",
    "MODEL_ID = \"gemini-2.5-pro-preview-03-25\"\n",
    "OUTPUT_FILE = \"./data/val_reasoning.jsonl\"\n",
    "MAX_CALLS_PER_RUN = 500\n",
    "\n",
    "# --- Concurrency Configuration ---\n",
    "# Adjust based on testing and RPM limits (max 1000, start lower)\n",
    "MAX_WORKERS = 5 # Number of concurrent API requests\n"
   ]
  },
  {
   "cell_type": "code",
   "execution_count": 33,
   "metadata": {},
   "outputs": [],
   "source": [
    "sys_prompt = \"\"\"\n",
    "You are an AI language expert simulating the process of text editing. You will receive a source text (`src`) which contains an editing instruction followed by the text to be edited.\n",
    "\n",
    "Your task is to:\n",
    "1.  Carefully identify the editing instruction given at the beginning of the `src` text.\n",
    "2.  Analyze the original text segment that follows the instruction in `src`.\n",
    "3.  Apply the instruction step-by-step to the original text.\n",
    "4.  For each step or change you make, articulate the precise reasoning based on linguistic rules, the instruction's goal (e.g., grammar, clarity, simplification), or common writing conventions. Explain *why* a change is necessary or beneficial according to the instruction.\n",
    "5.  Your reasoning should demonstrate *how* to arrive at the corrected text, simulating the thought process of performing the edit yourself.\n",
    "\n",
    "**Crucially:** Your reasoning process should *not* refer to or imply knowledge of a pre-existing target or corrected text. Focus *only* on applying the instruction to the source text to derive the necessary changes.\n",
    "\n",
    "Your entire output must consist *only* of the step-by-step reasoning process, enclosed within `<think></think>` tags. Do not include the original instruction, the source text, the final corrected text, or any other text outside these tags.\n",
    "\n",
    "**Example Interaction:**\n",
    "\n",
    "**User Input (constructed from your dataset):**\n",
    "\n",
    "Source (src): Fix grammar in this sentence: If engineers do not come up with new ideas, they cannot find best solution for the problems.\n",
    "Target (tgt): If engineers do not come up with new ideas, they cannot find the best solution for different problems.\n",
    "\n",
    "**Your Expected Output (demonstrating the reasoning to *derive* the correction):\n",
    "\n",
    "<think>\n",
    "1. Instruction analysis: The task is to \"Fix grammar\". This requires identifying and correcting grammatical errors in the sentence \"If engineers do not come up with new ideas, they cannot find best solution for the problems.\"\n",
    "2. Sentence segment analysis: The first clause \"If engineers do not come up with new ideas\" appears grammatically sound.\n",
    "3. Focus on the second clause: \"they cannot find best solution for the problems.\"\n",
    "4. Identify potential error 1: The noun phrase \"best solution\". \"Best\" is a superlative adjective. Grammatical rule: Superlative adjectives modifying singular countable nouns generally require a definite article (\"the\").\n",
    "5. Apply correction 1: Insert \"the\" before \"best solution\". The phrase becomes \"the best solution\".\n",
    "6. Identify potential error/improvement area 2: The phrase \"for the problems\". While grammatically plausible, using \"the\" implies specific, previously identified problems. The context seems general. Improving grammatical flow or clarity might involve adjusting this.\n",
    "7. Consider alternatives for \"the problems\": \"for problems\" (too general?), \"for specific problems\" (adds info), \"for different problems\" (suggests variety, often fits general statements well).\n",
    "8. Apply correction 2: Replace \"the problems\" with \"different problems\" for better contextual fit and naturalness, aligning with the goal of general grammatical improvement and clarity often included in \"Fix grammar\" tasks.\n",
    "9. Synthesized correction based on reasoning: The corrected clause is \"they cannot find the best solution for different problems.\" The full sentence derived from applying the grammar fixes is \"If engineers do not come up with new ideas, they cannot find the best solution for different problems.\"\n",
    "</think>\n",
    "\"\"\"\n"
   ]
  },
  {
   "cell_type": "code",
   "execution_count": 34,
   "metadata": {},
   "outputs": [
    {
     "name": "stdout",
     "output_type": "stream",
     "text": [
      "Loading dataset...\n",
      "Dataset loaded: 1712 rows\n"
     ]
    }
   ],
   "source": [
    "# --- Main Processing Logic ---\n",
    "\n",
    "if not gemini_api_key:\n",
    "    print(\"Error: GEMINI_API_KEY not found in environment variables.\")\n",
    "else:\n",
    "    # Initialize client\n",
    "    client = genai.Client(api_key=gemini_api_key)\n",
    "\n",
    "    # Load dataset\n",
    "    print(\"Loading dataset...\")\n",
    "    try:\n",
    "        # Using shuffle=False here to process in a consistent order across runs\n",
    "        validation_ds = load_dataset(\"grammarly/coedit\", split=\"validation\", cache_dir=\"./data\")\n",
    "        print(f\"Dataset loaded: {len(validation_ds)} rows\")\n",
    "    except Exception as e:\n",
    "        print(f\"Fatal Error: Could not load dataset. {e}\")\n",
    "        validation_ds = None # Ensure loop doesn't run"
   ]
  },
  {
   "cell_type": "code",
   "execution_count": null,
   "metadata": {},
   "outputs": [],
   "source": [
    "# Global flag for controlled shutdown\n",
    "shutdown_requested = threading.Event()\n",
    "\n",
    "# Custom exception for controlled shutdown\n",
    "class APIShutdownException(Exception):\n",
    "    \"\"\"Exception raised to trigger a controlled shutdown of API processing.\"\"\"\n",
    "    pass       \n",
    "\n",
    "# --- Helper Function to Load Processed IDs ---\n",
    "\n",
    "def load_processed_ids(filename):\n",
    "    processed = set()\n",
    "    if os.path.exists(filename):\n",
    "        with open(filename, 'r', encoding='utf-8') as f:\n",
    "            for line in f:\n",
    "                try:\n",
    "                    data = json.loads(line)\n",
    "                    if '_id' in data:\n",
    "                        processed.add(data['_id'])\n",
    "                except json.JSONDecodeError:\n",
    "                    print(f\"Warning: Skipping invalid JSON line in {filename}\")\n",
    "    print(f\"Loaded {len(processed)} processed IDs from {filename}\")\n",
    "    return processed\n",
    "\n",
    "# --- Worker Function ---\n",
    "\n",
    "def process_item(item, client, sys_prompt):\n",
    "    \"\"\"Processes a single dataset item to get reasoning.\"\"\"\n",
    "    item_id = item['_id']\n",
    "    item_src = item['src']\n",
    "    item_tgt = item['tgt']\n",
    "    user_prompt = f\"Source (src): {item_src}\\nTarget (tgt): {item_tgt}\"\n",
    "\n",
    "    try:\n",
    "        # ---  API Call ---\n",
    "        response = client.models.generate_content(\n",
    "            model=MODEL_ID,\n",
    "            contents=user_prompt,\n",
    "            config=types.GenerateContentConfig(\n",
    "            system_instruction=sys_prompt,\n",
    "                    thinking_config=types.ThinkingConfig(\n",
    "                        thinking_budget=600 # 0 means no thinking None means no limit to thinking it can take however many tokens it wants.\n",
    "                    )\n",
    "                )\n",
    "            )\n",
    "        \n",
    "        # --- Process Response ---\n",
    "        reasoning_text = response.text\n",
    "        \n",
    "        # Remove anything before <think> and after </think>\n",
    "        start_tag = \"<think>\"\n",
    "        end_tag = \"</think>\"\n",
    "        start_idx = reasoning_text.find(start_tag)\n",
    "        end_idx = reasoning_text.find(end_tag) + len(end_tag)\n",
    "        \n",
    "        if start_idx != -1 and end_idx != -1:\n",
    "            reasoning_text = reasoning_text[start_idx:end_idx]\n",
    "            return {\"_id\": item_id, \"reasoning\": reasoning_text.strip()}\n",
    "        else:\n",
    "            print(f\"\\nWarning: Unexpected response format for ID {item_id}. Skipping. Response: {reasoning_text[:200]}...\")\n",
    "            return {\"_id\": item_id, \"error\": \"Bad Format\"} # Return error indicator\n",
    "    except Exception as e:\n",
    "        if hasattr(e, 'code') and 400 <= e.code < 600:\n",
    "            error_msg = f\"Critical HTTP error {e.code}: {e}\"\n",
    "            print(f\"\\n{error_msg}\")\n",
    "            # Signal all threads to stop\n",
    "            shutdown_requested.set()\n",
    "            # Propagate the exception to interrupt processing\n",
    "            raise APIShutdownException(error_msg)\n",
    "        \n",
    "        # --- Handle API or Processing Errors ---\n",
    "        print(f\"\\nError processing ID {item_id}: {e}\")\n",
    "        return {\"_id\": item_id, \"error\": str(e)} # Return error indicator\n"
   ]
  },
  {
   "cell_type": "code",
   "execution_count": null,
   "metadata": {},
   "outputs": [
    {
     "name": "stdout",
     "output_type": "stream",
     "text": [
      "Loaded 58 processed IDs from ./data/val_reasoning.jsonl\n",
      "Filtering items to process...\n"
     ]
    },
    {
     "data": {
      "application/vnd.jupyter.widget-view+json": {
       "model_id": "c599bcbade46474f99b84581d8874017",
       "version_major": 2,
       "version_minor": 0
      },
      "text/plain": [
       "Filtering:   0%|          | 0/1712 [00:00<?, ?it/s]"
      ]
     },
     "metadata": {},
     "output_type": "display_data"
    },
    {
     "name": "stdout",
     "output_type": "stream",
     "text": [
      "Found 1654 items needing processing.\n",
      "Submitting 500 tasks to the executor...\n",
      "Tasks submitted (500). Waiting for results...\n"
     ]
    },
    {
     "data": {
      "application/vnd.jupyter.widget-view+json": {
       "model_id": "92ed02b2429f4242b8f7cb812f6ae895",
       "version_major": 2,
       "version_minor": 0
      },
      "text/plain": [
       "Processing Results:   0%|          | 0/500 [00:00<?, ?it/s]"
      ]
     },
     "metadata": {},
     "output_type": "display_data"
    },
    {
     "name": "stdout",
     "output_type": "stream",
     "text": [
      "\n",
      "Warning: Unexpected response format for ID 91. Skipping. Response: ```xml\n",
      "<think>\n",
      "1.  **Instruction Analysis:** The instruction is \"Rewrite this sentence.\" This is a general instruction, implying that changes can be made for clarity, conciseness, emphasis, or style, ...\n",
      "\n",
      "Warning: Unexpected response format for ID 92. Skipping. Response: ```xml\n",
      "<think>\n",
      "1.  **Instruction Analysis:** The instruction is \"Paraphrase the sentence.\" This means I need to reword the original sentence to express the same meaning but using different vocabulary ...\n",
      "\n",
      "Keyboard interrupt detected. Shutting down gracefully...\n",
      "\n",
      "Processing terminated early due to errors or interruption.\n",
      "Total processed IDs (including previous runs): 64\n"
     ]
    },
    {
     "name": "stdout",
     "output_type": "stream",
     "text": [
      "\n",
      "Warning: Unexpected response format for ID 94. Skipping. Response: ```xml\n",
      "<think>\n",
      "1.  **Instruction Analysis:** The instruction is \"Rewrite this sentence.\" This implies making the sentence sound more natural, concise, or stylistically improved, not just correcting gr...\n",
      "\n",
      "Warning: Unexpected response format for ID 95. Skipping. Response: ```xml\n",
      "<think>\n",
      "1.  **Instruction Analysis:** The instruction is \"Fix grammaticality\". This requires identifying and correcting grammatical errors in the provided text.\n",
      "\n",
      "2.  **Original Text Segment:** ...\n",
      "\n",
      "Warning: Unexpected response format for ID 96. Skipping. Response: ```xml\n",
      "<think>\n",
      "1.  **Instruction Analysis:** The instruction is \"Fix grammaticality\". This requires me to identify and correct any grammatical errors in the sentence: \"I bought one t-shirts and sungla...\n",
      "\n",
      "Warning: Unexpected response format for ID 97. Skipping. Response: ```xml\n",
      "<think>\n",
      "1.  **Instruction Analysis**: The instruction is \"Fix grammatical errors in this sentence\". This requires a thorough check of the sentence for any grammatical mistakes.\n",
      "\n",
      "2.  **Sentence ...\n",
      "\n",
      "Warning: Unexpected response format for ID 98. Skipping. Response: ```xml\n",
      "<think>\n",
      "1.  **Instruction Analysis:** The instruction is \"Rewrite this sentence\". This means I need to change the sentence's structure or phrasing while preserving its original meaning. Common ...\n",
      "\n",
      "Warning: Unexpected response format for ID 100. Skipping. Response: ```xml\n",
      "<think>\n",
      "1.  **Instruction Analysis:** The instruction is to \"Write a paraphrased version of the sentence\". This means I need to reword the original sentence \"And Jason will get what he deserves...\n",
      "\n",
      "Warning: Unexpected response format for ID 212. Skipping. Response: <think>\n",
      "1.  **Instruction Analysis**: The instruction is \"Fix grammaticality in this sentence\". This means I need to identify and correct grammatical errors, including verb forms, spelling, word choic...\n"
     ]
    }
   ],
   "source": [
    "\n",
    "# --- Main processing section ---\n",
    "if validation_ds:\n",
    "    processed_ids = load_processed_ids(OUTPUT_FILE)\n",
    "    api_calls_made_this_run = 0\n",
    "    file_lock = threading.Lock()\n",
    "    items_to_process = []\n",
    "\n",
    "    \n",
    "    # --- Pre-filter items that need processing ---\n",
    "    print(\"Filtering items to process...\")\n",
    "    for item in tqdm(validation_ds, desc=\"Filtering\"):\n",
    "        if item['_id'] not in processed_ids:\n",
    "            items_to_process.append(item)\n",
    "    print(f\"Found {len(items_to_process)} items needing processing.\")\n",
    "\n",
    "    # Process items concurrently\n",
    "    with open(OUTPUT_FILE, 'a', encoding='utf-8') as outfile:\n",
    "        try:\n",
    "            with concurrent.futures.ThreadPoolExecutor(max_workers=MAX_WORKERS) as executor:\n",
    "                futures = {}\n",
    "                \n",
    "                # Submit tasks only up to the daily limit\n",
    "                num_to_submit = min(len(items_to_process), MAX_CALLS_PER_RUN - api_calls_made_this_run)\n",
    "                print(f\"Submitting {num_to_submit} tasks to the executor...\")\n",
    "\n",
    "                submitted_count = 0\n",
    "                for i in range(len(items_to_process)):\n",
    "                    if submitted_count >= num_to_submit or shutdown_requested.is_set():\n",
    "                        break  # Stop submitting if we hit the limit or shutdown requested\n",
    "                    item = items_to_process[i]\n",
    "                    future = executor.submit(process_item, item, client, sys_prompt)\n",
    "                    futures[future] = item['_id']\n",
    "                    submitted_count += 1\n",
    "\n",
    "                print(f\"Tasks submitted ({submitted_count}). Waiting for results...\")\n",
    "\n",
    "                # Process results as they complete\n",
    "                completed_futures = []\n",
    "\n",
    "                for future in tqdm(concurrent.futures.as_completed(futures), total=len(futures), desc=\"Processing Results\"):\n",
    "                    if shutdown_requested.is_set():\n",
    "                        print(\"\\nShutdown requested. Canceling remaining tasks...\")\n",
    "                        for f in futures:\n",
    "                            if f not in completed_futures and not f.done():\n",
    "                                f.cancel()\n",
    "                        break\n",
    "        \n",
    "                    completed_futures.append(future)\n",
    "                    item_id = futures[future]       \n",
    "                    \n",
    "                    try:\n",
    "                        result_data = future.result()\n",
    "                        \n",
    "                        if result_data and \"error\" not in result_data:\n",
    "                            with file_lock:\n",
    "                                if result_data['_id'] not in processed_ids:\n",
    "                                    json_line = json.dumps(result_data)\n",
    "                                    outfile.write(json_line + '\\n')\n",
    "                                    outfile.flush()\n",
    "                                    processed_ids.add(result_data['_id'])\n",
    "                                    api_calls_made_this_run += 1\n",
    "                                    \n",
    "                    except APIShutdownException:\n",
    "                        print(f\"Task for item {item_id} aborted due to shutdown request\")\n",
    "                    except Exception as exc:\n",
    "                        print(f'\\nItem ID {item_id} generated an exception: {exc}')\n",
    "                        \n",
    "        except KeyboardInterrupt:\n",
    "            print(\"\\nKeyboard interrupt detected. Shutting down gracefully...\")\n",
    "            shutdown_requested.set()\n",
    "            \n",
    "    # Final status report\n",
    "    if shutdown_requested.is_set():\n",
    "        print(\"\\nProcessing terminated early due to errors or interruption.\")\n",
    "    else:\n",
    "        print(f\"\\nFinished processing batch. Made approximately {api_calls_made_this_run} successful API calls in this run.\")\n",
    "    \n",
    "    print(f\"Total processed IDs (including previous runs): {len(processed_ids)}\")"
   ]
  },
  {
   "cell_type": "code",
   "execution_count": null,
   "metadata": {},
   "outputs": [
    {
     "name": "stdout",
     "output_type": "stream",
     "text": [
      "candidates=[Candidate(content=Content(parts=[Part(video_metadata=None, thought=None, code_execution_result=None, executable_code=None, file_data=None, function_call=None, function_response=None, inline_data=None, text='Ah, a fellow Blink-182 fan! The line continues:\\n\\n\"...**shadow in the background of the morgue.**\"\\n\\nThat\\'s from their iconic song **\"I Miss You\"**!\\n\\nThe next lines are:\\n\"The unsuspecting victim of darkness in the valley\\nWe can live like Jack and Sally if we want\\nWhere you can always find me\\nAnd we\\'ll have Halloween on Christmas...\"\\n\\nGreat song!')], role='model'), citation_metadata=CitationMetadata(citations=[Citation(end_index=1277, license='', publication_date=None, start_index=1070, title=None, uri='https://www.target.com/p/insten-ac-power-adapter-compatible-with-sony-psp-go-black/-/A-78787043'), Citation(end_index=1391, license='', publication_date=None, start_index=1206, title=None, uri='https://www.target.com/p/insten-ac-power-adapter-compatible-with-sony-psp-go-black/-/A-78787043'), Citation(end_index=2556, license='', publication_date=None, start_index=2385, title=None, uri='https://www.target.com/p/insten-ac-power-adapter-compatible-with-sony-psp-go-black/-/A-78787043'), Citation(end_index=3087, license='', publication_date=None, start_index=2928, title=None, uri='https://www.target.com/p/insten-ac-power-adapter-compatible-with-sony-psp-go-black/-/A-78787043')]), finish_message=None, token_count=None, finish_reason=<FinishReason.STOP: 'STOP'>, avg_logprobs=None, grounding_metadata=None, index=0, logprobs_result=None, safety_ratings=None)] create_time=None response_id=None model_version='gemini-2.5-pro-preview-03-25' prompt_feedback=None usage_metadata=GenerateContentResponseUsageMetadata(cache_tokens_details=None, cached_content_token_count=None, candidates_token_count=92, candidates_tokens_details=None, prompt_token_count=13, prompt_tokens_details=[ModalityTokenCount(modality=<MediaModality.TEXT: 'TEXT'>, token_count=13)], thoughts_token_count=740, tool_use_prompt_token_count=None, tool_use_prompt_tokens_details=None, total_token_count=845, traffic_type=None) automatic_function_calling_history=[] parsed=None\n"
     ]
    }
   ],
   "source": [
    "prompt = \"\"\"\n",
    "    hello there the angel from my nightmare the... return whatever\n",
    "\"\"\"\n",
    "response = client.models.generate_content(\n",
    "    model=\"gemini-2.5-pro-preview-03-25\",\n",
    "    contents=prompt\n",
    ")\n",
    "\n",
    "print(response)"
   ]
  },
  {
   "cell_type": "code",
   "execution_count": 14,
   "metadata": {},
   "outputs": [
    {
     "name": "stdout",
     "output_type": "stream",
     "text": [
      "Ah, a fellow Blink-182 fan! The line continues:\n",
      "\n",
      "\"...**shadow in the background of the morgue.**\"\n",
      "\n",
      "That's from their iconic song **\"I Miss You\"**!\n",
      "\n",
      "The next lines are:\n",
      "\"The unsuspecting victim of darkness in the valley\n",
      "We can live like Jack and Sally if we want\n",
      "Where you can always find me\n",
      "And we'll have Halloween on Christmas...\"\n",
      "\n",
      "Great song!\n"
     ]
    }
   ],
   "source": [
    "print(response.text)"
   ]
  },
  {
   "cell_type": "code",
   "execution_count": 41,
   "metadata": {},
   "outputs": [
    {
     "ename": "ValueError",
     "evalue": "Invalid format specifier ' item_id, \"reasoning\": reasoning_text.strip()' for object of type 'str'",
     "output_type": "error",
     "traceback": [
      "\u001b[0;31m---------------------------------------------------------------------------\u001b[0m",
      "\u001b[0;31mValueError\u001b[0m                                Traceback (most recent call last)",
      "Cell \u001b[0;32mIn[41], line 11\u001b[0m\n\u001b[1;32m      9\u001b[0m \u001b[38;5;28;01mif\u001b[39;00m start_idx \u001b[38;5;241m!=\u001b[39m \u001b[38;5;241m-\u001b[39m\u001b[38;5;241m1\u001b[39m \u001b[38;5;129;01mand\u001b[39;00m end_idx \u001b[38;5;241m!=\u001b[39m \u001b[38;5;241m-\u001b[39m\u001b[38;5;241m1\u001b[39m:\n\u001b[1;32m     10\u001b[0m     reasoning_text \u001b[38;5;241m=\u001b[39m reasoning_text[start_idx:end_idx]\n\u001b[0;32m---> 11\u001b[0m     \u001b[38;5;28mprint\u001b[39m(\u001b[38;5;124mf\u001b[39m\u001b[38;5;124m'\u001b[39m\u001b[38;5;132;01m{\u001b[39;00m\u001b[38;5;124m\"\u001b[39m\u001b[38;5;124m_id\u001b[39m\u001b[38;5;124m\"\u001b[39m\u001b[38;5;132;01m:\u001b[39;00m\u001b[38;5;124m item_id, \u001b[39m\u001b[38;5;124m\"\u001b[39m\u001b[38;5;124mreasoning\u001b[39m\u001b[38;5;124m\"\u001b[39m\u001b[38;5;124m: reasoning_text.strip()\u001b[39m\u001b[38;5;132;01m}\u001b[39;00m\u001b[38;5;124m'\u001b[39m)\n\u001b[1;32m     12\u001b[0m \u001b[38;5;28;01melse\u001b[39;00m:\n\u001b[1;32m     13\u001b[0m     \u001b[38;5;28mprint\u001b[39m(\u001b[38;5;124mf\u001b[39m\u001b[38;5;124m\"\u001b[39m\u001b[38;5;130;01m\\n\u001b[39;00m\u001b[38;5;124mWarning: Unexpected response format for ID \u001b[39m\u001b[38;5;132;01m{\u001b[39;00mitem_id\u001b[38;5;132;01m}\u001b[39;00m\u001b[38;5;124m. Skipping. Response: \u001b[39m\u001b[38;5;132;01m{\u001b[39;00mreasoning_text[:\u001b[38;5;241m200\u001b[39m]\u001b[38;5;132;01m}\u001b[39;00m\u001b[38;5;124m...\u001b[39m\u001b[38;5;124m\"\u001b[39m)\n",
      "\u001b[0;31mValueError\u001b[0m: Invalid format specifier ' item_id, \"reasoning\": reasoning_text.strip()' for object of type 'str'"
     ]
    },
    {
     "name": "stdout",
     "output_type": "stream",
     "text": [
      "\n",
      "Warning: Unexpected response format for ID 112. Skipping. Response: ```xml\n",
      "<think>\n",
      "1.  **Instruction Analysis:** The instruction is \"Rewrite this sentence.\" This implies improving clarity, conciseness, flow, or potentially changing the emphasis or structure. The origi...\n",
      "\n",
      "Warning: Unexpected response format for ID 113. Skipping. Response: ```xml\n",
      "<think>\n",
      "1.  **Instruction Analysis:** The instruction is \"Write a paraphrase for the sentence: The world has tried with little success to cut carbon emissions under the Kyoto Protocol.\" This me...\n",
      "\n",
      "Warning: Unexpected response format for ID 114. Skipping. Response: ```xml\n",
      "<think>\n",
      "The user wants me to edit the source text to \"Make the sentence fluent\". This involves correcting grammar, spelling, word choice, and sentence structure to improve readability and natur...\n",
      "\n",
      "Warning: Unexpected response format for ID 116. Skipping. Response: ```xml\n",
      "<think>\n",
      "1.  **Instruction Analysis:** The instruction is \"Write a paraphrased version of the sentence\". This means expressing the same meaning as the original sentence but using different wordi...\n",
      "\n",
      "Warning: Unexpected response format for ID 117. Skipping. Response: ```xml\n",
      "<think>\n",
      "1.  **Instruction Analysis:** The instruction is \"Paraphrase the sentence\". This means I need to reword the original sentence while keeping the original meaning intact. The original sen...\n",
      "\n",
      "Warning: Unexpected response format for ID 118. Skipping. Response: ```xml\n",
      "<think>\n",
      "1.  **Instruction Analysis:** The instruction is \"Fix grammatical mistakes in this sentence\". This means I need to identify and correct errors in grammar, punctuation, word choice, and ...\n",
      "\n",
      "Warning: Unexpected response format for ID 119. Skipping. Response: ```xml\n",
      "<think>\n",
      "1.  **Instruction Analysis:** The instruction is \"Write a paraphrase for the sentence\". This means I need to reword the original sentence while preserving its core meaning. This often i...\n",
      "\n",
      "Warning: Unexpected response format for ID 120. Skipping. Response: ```xml\n",
      "<think>\n",
      "1.  **Instruction Analysis:** The instruction is \"Fix grammatical errors\". I need to examine the sentence for issues in verb tense, subject-verb agreement, noun forms (singular/plural, ...\n",
      "\n",
      "Warning: Unexpected response format for ID 121. Skipping. Response: ```xml\n",
      "<think>\n",
      "1.  **Instruction Analysis:** The instruction is to \"Paraphrase this sentence\". This means rephrasing the original sentence \"God is hard but God is good\" to convey the same essential me...\n"
     ]
    }
   ],
   "source": [
    "reasoning_text = \"```xml <think>\" + \"response.text\" + \"</think>```\"\n",
    "\n",
    "# Remove anything before <think> and after </think>\n",
    "start_tag = \"<think>\"\n",
    "end_tag = \"</think>\"\n",
    "start_idx = reasoning_text.find(start_tag)\n",
    "end_idx = reasoning_text.find(end_tag) + len(end_tag)\n",
    "\n",
    "if start_idx != -1 and end_idx != -1:\n",
    "    reasoning_text = reasoning_text[start_idx:end_idx]\n",
    "    print(f'{\"_id\": item_id, \"reasoning\": reasoning_text.strip()}')\n",
    "else:\n",
    "    print(f\"\\nWarning: Unexpected response format for ID {item_id}. Skipping. Response: {reasoning_text[:200]}...\")"
   ]
  },
  {
   "cell_type": "code",
   "execution_count": 39,
   "metadata": {},
   "outputs": [
    {
     "name": "stdout",
     "output_type": "stream",
     "text": [
      "<think>Ah, a fellow Blink-182 fan! The line continues:\n",
      "\n",
      "\"...**shadow in the background of the morgue.**\"\n",
      "\n",
      "That's from their iconic song **\"I Miss You\"**!\n",
      "\n",
      "The next lines are:\n",
      "\"The unsuspecting victim of darkness in the valley\n",
      "We can live like Jack and Sally if we want\n",
      "Where you can always find me\n",
      "And we'll have Halloween on Christmas...\"\n",
      "\n",
      "Great song!</think>\n"
     ]
    },
    {
     "name": "stdout",
     "output_type": "stream",
     "text": [
      "\n",
      "Warning: Unexpected response format for ID 110. Skipping. Response: ```xml\n",
      "<think>\n",
      "1.  **Instruction Analysis:** The instruction is \"Write a paraphrase for the sentence: The Commission will support the exchange of good practice in this field.\" This means I need to rew...\n"
     ]
    }
   ],
   "source": [
    "reasoning_text = \"```xml <think>\" + response.text + \"</think>```\"\n",
    "print(reasoning_text)"
   ]
  },
  {
   "cell_type": "code",
   "execution_count": null,
   "metadata": {},
   "outputs": [],
   "source": []
  }
 ],
 "metadata": {
  "kernelspec": {
   "display_name": "Python 3",
   "language": "python",
   "name": "python3"
  },
  "language_info": {
   "codemirror_mode": {
    "name": "ipython",
    "version": 3
   },
   "file_extension": ".py",
   "mimetype": "text/x-python",
   "name": "python",
   "nbconvert_exporter": "python",
   "pygments_lexer": "ipython3",
   "version": "3.11.1"
  }
 },
 "nbformat": 4,
 "nbformat_minor": 2
}
